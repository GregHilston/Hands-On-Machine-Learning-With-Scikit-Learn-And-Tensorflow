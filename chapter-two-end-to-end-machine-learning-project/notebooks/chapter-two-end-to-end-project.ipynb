{
 "cells": [
  {
   "cell_type": "markdown",
   "metadata": {
    "button": false,
    "deletable": true,
    "new_sheet": false,
    "run_control": {
     "read_only": false
    }
   },
   "source": [
    "#  Real Estate Valuation\n",
    "\n",
    "This is a real estate multivariate regression problem. Well be going through the \"checklist\" defined in Appendix B in the book [Hands-On Machine Learning with Scikit-Learn and TensorFlow: Concepts, Tools, and Techniques to Build Intelligent Systems](https://www.amazon.com/Hands-Machine-Learning-Scikit-Learn-TensorFlow/dp/1491962291). I'll be expliclity answering all the questions and going through each step to improve my learning, even though a lot of the questions don't make sense or apply super well to just doing this process for learning.\n",
    "\n",
    "I'll preface answers with\n",
    "\n",
    "> Pretend\n",
    "\n",
    "if I'm making up an answer for this example."
   ]
  },
  {
   "cell_type": "code",
   "execution_count": 1,
   "metadata": {},
   "outputs": [],
   "source": [
    "# allows our matplotlib graphs to be display inline\n",
    "%matplotlib inline"
   ]
  },
  {
   "cell_type": "code",
   "execution_count": 37,
   "metadata": {},
   "outputs": [],
   "source": [
    "import urllib.request # for fetching our raw data from the web\n",
    "import pandas as pd # for easily manipulating our data\n",
    "import seaborn as sns # for pretty graphs\n",
    "from scipy.stats import shapiro # for testing for normality\n",
    "import statsmodels.api as sm # for making QQ plots"
   ]
  },
  {
   "cell_type": "markdown",
   "metadata": {
    "button": false,
    "deletable": true,
    "new_sheet": false,
    "run_control": {
     "read_only": false
    }
   },
   "source": [
    "## Part A: Frame the Problem and Look at the Big Picture\n",
    " \n",
    "1. Define the objective in business terms.\n",
    "\n",
    "(Pretend) We want to predict real estate valuations in New Taipei City, Taiwan to increase our ability to effectively bid on lots.\n",
    "\n",
    "2. How will your solution be used?\n",
    "\n",
    "(Pretend) Our solution will be used to ensure we our bids are accurate, maximizing profit.\n",
    "\n",
    "3. What are the current solutions/workarounds (if any)?\n",
    "\n",
    "None.\n",
    "\n",
    "4. How should you frame this problem (supervised/unsupervised, online/offline, etc.)?\n",
    "\n",
    "Supervised. The data sets have valuation attached. \n",
    "\n",
    "Offline. All the data that existed has been already gathered and all the training will be done at once.\n",
    "\n",
    "5. How should performance be measured?\n",
    "\n",
    "When deciding which performance metric to use, we have a lot of options to pick from.\n",
    "\n",
    "1. Mean Squared Error (MSE)\n",
    "2. Root Mean Squared Error (RMSE)\n",
    "3. Mean Absolute Error (MAE)\n",
    "4. R Squared (R²)\n",
    "5. Adjusted R Squared $(R²)$\n",
    "6. Mean Square Percentage Error (MSPE)\n",
    "7. Mean Absolute Percentage Error (MAPE)\n",
    "8. Root Mean Squared Logarithmic Error (RMSLE)\n",
    "\n",
    "I have decided that we'll use MAE:\n",
    "\n",
    "$\\text{MAE} = \\frac{1}{N}\\sum_{i=1}^{N}|{y_{i}-\\hat{y}_{i}}|$\n",
    "\n",
    "I've decided to use MAE, as I believe we'll have some outliers in our data set. \n",
    "\n",
    "I used this [article](https://towardsdatascience.com/how-to-select-the-right-evaluation-metric-for-machine-learning-models-part-1-regrression-metrics-3606e25beae0) to help decide what would be a proper performance measurement.\n",
    "\n",
    "6. Is the performance measure aligned with the business objective?\n",
    "\n",
    "Yes, since we're predicting the value of houses, we'll be able to look at our error function's output and compare different models against each other, knowing we can treat a 10 MSE as exactly twice as bad as a 5 MSE. This works very well with the financial aspect of what we're modeling here.\n",
    "\n",
    "7. What would be the minimum performance needed to reach the business objective?\n",
    "\n",
    "TODO\n",
    "\n",
    "8. What are comparable problems? Can you reuse experience or tools?\n",
    "\n",
    "(Pretend) Our company has had no comparable problems, nor can we reuse experience or tools.\n",
    "\n",
    "9. Is human expertise available?\n",
    "\n",
    "(Pretend) No.\n",
    "\n",
    "10. How would you solve the problem manually?\n",
    "\n",
    "I'd attempt to solve this problem manually by looking at all the houses that sold for the most amount and the houses that sold for the least amount and look for patterns that may elude to what would effect each house's price.\n",
    "\n",
    "11. List the assumptions you (or others) have made so far.\n",
    "\n",
    "\n",
    "- valuation and transaction date will have a positive correlation\n",
    "  - generally real estate gets more valuable with time, along with inflation increasing the value\n",
    "- valuation and house age will have a negative correlation\n",
    "  - part of me believes a newer house will be worth more, but there's also part of me thinking older homes may be have been larger due to less people and more available land back then\n",
    "- valuation and distance to the nearest MRT station will have a negative correlation\n",
    "  - I believe the closer a house is to an MRT station, the more likely it is to be in an urban setting and therefore more likely to fetch a higher valuation\n",
    "- valuation and number of convenience stores will have a negative correlation\n",
    "  - I believe the moreconvenience stores near a house, the more likely it is to be in an urban setting and therefore more likely to fetch a higher valuation\n",
    "- valuation and latitude will have a postiive correlation\n",
    "  - New Taipei City is a city bordered by water to the north, so I believe these coastal locations will be worth more\n",
    "- no assumption for valuation and longitude\n",
    "\n",
    "12. Verify assumptions if possible.\n",
    "\n",
    "TODO"
   ]
  },
  {
   "cell_type": "markdown",
   "metadata": {
    "button": false,
    "deletable": true,
    "new_sheet": false,
    "run_control": {
     "read_only": false
    }
   },
   "source": [
    "## Part B: Get the Data\n",
    "\n",
    "_Note: automate as much as possible so you can easily get fresh data._\n",
    "\n",
    "1. List the data you need and how much you need.\n",
    "\n",
    "We'll just use the dataset we found before starting this project. If we were to answer this without acknowledging the dataset we've already found, we'd want a many rows as possible where columns would be potential variables that contributed to valuation of a house.\n",
    "\n",
    "2. Find and document where you can get that data.\n",
    "\n",
    "We can get this data at this [location])(https://archive.ics.uci.edu/ml/datasets/Real+estate+valuation+data+set).\n",
    "\n",
    "3. Check how much space it will take.\n",
    "\n",
    "32 KB.\n",
    "\n",
    "4. Check legal obligations, and get authorization if necessary.\n",
    "\n",
    "UCI's data is free.\n",
    "\n",
    "5. Get access authorizations.\n",
    "\n",
    "Not needed.\n",
    "\n",
    "6. Create a workspace (with enough storage space).\n",
    "\n",
    "Done using [Cookiecutter Data Science](https://drivendata.github.io/cookiecutter-data-science/).\n",
    "\n",
    "7. Get the data.\n",
    "\n",
    "Done below.\n",
    "\n",
    "8. Convert the data to a format you can easily manipulate (without changing the data itself).\n",
    "\n",
    "Not needed.\n",
    "\n",
    "9. Ensure sensitive information is deleted or protected (e.g., anonymized).\n",
    "\n",
    "Not needed.\n",
    "\n",
    "10. Check the size and type of data (time series, sample, geographical, etc.).\n",
    "\n",
    "I'm not sure what to call the kind of data we're working with. Each row represents the action of selling a house, how much it sold for and a few other potentially related measurements.\n",
    "\n",
    "11. Sample a test set, put it aside, and never look at it (no data snooping!).\n",
    "\n",
    "We'll do this later, as we have cleaning to perform in the next section."
   ]
  },
  {
   "cell_type": "code",
   "execution_count": 3,
   "metadata": {},
   "outputs": [],
   "source": [
    "# We we should store our raw hosuing data\n",
    "STORE_RAW_HOUSING_DATA_DESTINATION_PATH = \"../data/raw/real_estate_valuation_data_set.xlsx\""
   ]
  },
  {
   "cell_type": "code",
   "execution_count": 4,
   "metadata": {},
   "outputs": [],
   "source": [
    "def fetch_raw_housing_data(STORE_RAW_HOUSING_DATA_DESTINATION_PATH: str = STORE_RAW_HOUSING_DATA_DESTINATION_PATH):\n",
    "    \"\"\"Fetches our raw housing data.\n",
    "    \n",
    "    \"\"\"\n",
    "    # We we can fetch out raw data from\n",
    "    RAW_DATA_URL = \"https://archive.ics.uci.edu/ml/machine-learning-databases/00477/Real%20estate%20valuation%20data%20set.xlsx\"\n",
    "    \n",
    "    urllib.request.urlretrieve(RAW_DATA_URL, STORE_RAW_HOUSING_DATA_DESTINATION_PATH)\n",
    "    \n",
    "fetch_raw_housing_data()"
   ]
  },
  {
   "cell_type": "code",
   "execution_count": 5,
   "metadata": {},
   "outputs": [],
   "source": [
    "def load_raw_hosuing_data(STORE_RAW_HOUSING_DATA_DESTINATION_PATH: str = STORE_RAW_HOUSING_DATA_DESTINATION_PATH) -> pd.DataFrame:\n",
    "    \"\"\"Loads the raw housing data we've previously fetched\n",
    "    \n",
    "    \"\"\"\n",
    "    \n",
    "    # creating our base data frame\n",
    "    df = pd.read_excel(STORE_RAW_HOUSING_DATA_DESTINATION_PATH, index_col = \"No\")\n",
    "    \n",
    "    # renaming columns to drop the not needed X or Y prefix\n",
    "    df.columns = [\"transaction_date\", \"house_age\", \"distance_to_the_nearest_MRT_station\", \"number_of_convenience_stores\", \"latitude\", \"longitude\", \"house_price_of_unit_area\"]\n",
    "    \n",
    "    return df\n",
    "\n",
    "df = load_raw_hosuing_data()"
   ]
  },
  {
   "cell_type": "code",
   "execution_count": 6,
   "metadata": {},
   "outputs": [
    {
     "name": "stdout",
     "output_type": "stream",
     "text": [
      "<class 'pandas.core.frame.DataFrame'>\n",
      "Int64Index: 414 entries, 1 to 414\n",
      "Data columns (total 7 columns):\n",
      "transaction_date                       414 non-null float64\n",
      "house_age                              414 non-null float64\n",
      "distance_to_the_nearest_MRT_station    414 non-null float64\n",
      "number_of_convenience_stores           414 non-null int64\n",
      "latitude                               414 non-null float64\n",
      "longitude                              414 non-null float64\n",
      "house_price_of_unit_area               414 non-null float64\n",
      "dtypes: float64(6), int64(1)\n",
      "memory usage: 25.9 KB\n"
     ]
    }
   ],
   "source": [
    "df.info()"
   ]
  },
  {
   "cell_type": "code",
   "execution_count": 7,
   "metadata": {},
   "outputs": [
    {
     "data": {
      "text/html": [
       "<div>\n",
       "<style scoped>\n",
       "    .dataframe tbody tr th:only-of-type {\n",
       "        vertical-align: middle;\n",
       "    }\n",
       "\n",
       "    .dataframe tbody tr th {\n",
       "        vertical-align: top;\n",
       "    }\n",
       "\n",
       "    .dataframe thead th {\n",
       "        text-align: right;\n",
       "    }\n",
       "</style>\n",
       "<table border=\"1\" class=\"dataframe\">\n",
       "  <thead>\n",
       "    <tr style=\"text-align: right;\">\n",
       "      <th></th>\n",
       "      <th>transaction_date</th>\n",
       "      <th>house_age</th>\n",
       "      <th>distance_to_the_nearest_MRT_station</th>\n",
       "      <th>number_of_convenience_stores</th>\n",
       "      <th>latitude</th>\n",
       "      <th>longitude</th>\n",
       "      <th>house_price_of_unit_area</th>\n",
       "    </tr>\n",
       "  </thead>\n",
       "  <tbody>\n",
       "    <tr>\n",
       "      <th>count</th>\n",
       "      <td>414.000000</td>\n",
       "      <td>414.000000</td>\n",
       "      <td>414.000000</td>\n",
       "      <td>414.000000</td>\n",
       "      <td>414.000000</td>\n",
       "      <td>414.000000</td>\n",
       "      <td>414.000000</td>\n",
       "    </tr>\n",
       "    <tr>\n",
       "      <th>mean</th>\n",
       "      <td>2013.148953</td>\n",
       "      <td>17.712560</td>\n",
       "      <td>1083.885689</td>\n",
       "      <td>4.094203</td>\n",
       "      <td>24.969030</td>\n",
       "      <td>121.533361</td>\n",
       "      <td>37.980193</td>\n",
       "    </tr>\n",
       "    <tr>\n",
       "      <th>std</th>\n",
       "      <td>0.281995</td>\n",
       "      <td>11.392485</td>\n",
       "      <td>1262.109595</td>\n",
       "      <td>2.945562</td>\n",
       "      <td>0.012410</td>\n",
       "      <td>0.015347</td>\n",
       "      <td>13.606488</td>\n",
       "    </tr>\n",
       "    <tr>\n",
       "      <th>min</th>\n",
       "      <td>2012.666667</td>\n",
       "      <td>0.000000</td>\n",
       "      <td>23.382840</td>\n",
       "      <td>0.000000</td>\n",
       "      <td>24.932070</td>\n",
       "      <td>121.473530</td>\n",
       "      <td>7.600000</td>\n",
       "    </tr>\n",
       "    <tr>\n",
       "      <th>25%</th>\n",
       "      <td>2012.916667</td>\n",
       "      <td>9.025000</td>\n",
       "      <td>289.324800</td>\n",
       "      <td>1.000000</td>\n",
       "      <td>24.963000</td>\n",
       "      <td>121.528085</td>\n",
       "      <td>27.700000</td>\n",
       "    </tr>\n",
       "    <tr>\n",
       "      <th>50%</th>\n",
       "      <td>2013.166667</td>\n",
       "      <td>16.100000</td>\n",
       "      <td>492.231300</td>\n",
       "      <td>4.000000</td>\n",
       "      <td>24.971100</td>\n",
       "      <td>121.538630</td>\n",
       "      <td>38.450000</td>\n",
       "    </tr>\n",
       "    <tr>\n",
       "      <th>75%</th>\n",
       "      <td>2013.416667</td>\n",
       "      <td>28.150000</td>\n",
       "      <td>1454.279000</td>\n",
       "      <td>6.000000</td>\n",
       "      <td>24.977455</td>\n",
       "      <td>121.543305</td>\n",
       "      <td>46.600000</td>\n",
       "    </tr>\n",
       "    <tr>\n",
       "      <th>max</th>\n",
       "      <td>2013.583333</td>\n",
       "      <td>43.800000</td>\n",
       "      <td>6488.021000</td>\n",
       "      <td>10.000000</td>\n",
       "      <td>25.014590</td>\n",
       "      <td>121.566270</td>\n",
       "      <td>117.500000</td>\n",
       "    </tr>\n",
       "  </tbody>\n",
       "</table>\n",
       "</div>"
      ],
      "text/plain": [
       "       transaction_date   house_age  distance_to_the_nearest_MRT_station  \\\n",
       "count        414.000000  414.000000                           414.000000   \n",
       "mean        2013.148953   17.712560                          1083.885689   \n",
       "std            0.281995   11.392485                          1262.109595   \n",
       "min         2012.666667    0.000000                            23.382840   \n",
       "25%         2012.916667    9.025000                           289.324800   \n",
       "50%         2013.166667   16.100000                           492.231300   \n",
       "75%         2013.416667   28.150000                          1454.279000   \n",
       "max         2013.583333   43.800000                          6488.021000   \n",
       "\n",
       "       number_of_convenience_stores    latitude   longitude  \\\n",
       "count                    414.000000  414.000000  414.000000   \n",
       "mean                       4.094203   24.969030  121.533361   \n",
       "std                        2.945562    0.012410    0.015347   \n",
       "min                        0.000000   24.932070  121.473530   \n",
       "25%                        1.000000   24.963000  121.528085   \n",
       "50%                        4.000000   24.971100  121.538630   \n",
       "75%                        6.000000   24.977455  121.543305   \n",
       "max                       10.000000   25.014590  121.566270   \n",
       "\n",
       "       house_price_of_unit_area  \n",
       "count                414.000000  \n",
       "mean                  37.980193  \n",
       "std                   13.606488  \n",
       "min                    7.600000  \n",
       "25%                   27.700000  \n",
       "50%                   38.450000  \n",
       "75%                   46.600000  \n",
       "max                  117.500000  "
      ]
     },
     "execution_count": 7,
     "metadata": {},
     "output_type": "execute_result"
    }
   ],
   "source": [
    "df.describe()"
   ]
  },
  {
   "cell_type": "code",
   "execution_count": 8,
   "metadata": {},
   "outputs": [
    {
     "data": {
      "text/html": [
       "<div>\n",
       "<style scoped>\n",
       "    .dataframe tbody tr th:only-of-type {\n",
       "        vertical-align: middle;\n",
       "    }\n",
       "\n",
       "    .dataframe tbody tr th {\n",
       "        vertical-align: top;\n",
       "    }\n",
       "\n",
       "    .dataframe thead th {\n",
       "        text-align: right;\n",
       "    }\n",
       "</style>\n",
       "<table border=\"1\" class=\"dataframe\">\n",
       "  <thead>\n",
       "    <tr style=\"text-align: right;\">\n",
       "      <th></th>\n",
       "      <th>transaction_date</th>\n",
       "      <th>house_age</th>\n",
       "      <th>distance_to_the_nearest_MRT_station</th>\n",
       "      <th>number_of_convenience_stores</th>\n",
       "      <th>latitude</th>\n",
       "      <th>longitude</th>\n",
       "      <th>house_price_of_unit_area</th>\n",
       "    </tr>\n",
       "    <tr>\n",
       "      <th>No</th>\n",
       "      <th></th>\n",
       "      <th></th>\n",
       "      <th></th>\n",
       "      <th></th>\n",
       "      <th></th>\n",
       "      <th></th>\n",
       "      <th></th>\n",
       "    </tr>\n",
       "  </thead>\n",
       "  <tbody>\n",
       "    <tr>\n",
       "      <th>1</th>\n",
       "      <td>2012.916667</td>\n",
       "      <td>32.0</td>\n",
       "      <td>84.87882</td>\n",
       "      <td>10</td>\n",
       "      <td>24.98298</td>\n",
       "      <td>121.54024</td>\n",
       "      <td>37.9</td>\n",
       "    </tr>\n",
       "    <tr>\n",
       "      <th>2</th>\n",
       "      <td>2012.916667</td>\n",
       "      <td>19.5</td>\n",
       "      <td>306.59470</td>\n",
       "      <td>9</td>\n",
       "      <td>24.98034</td>\n",
       "      <td>121.53951</td>\n",
       "      <td>42.2</td>\n",
       "    </tr>\n",
       "    <tr>\n",
       "      <th>3</th>\n",
       "      <td>2013.583333</td>\n",
       "      <td>13.3</td>\n",
       "      <td>561.98450</td>\n",
       "      <td>5</td>\n",
       "      <td>24.98746</td>\n",
       "      <td>121.54391</td>\n",
       "      <td>47.3</td>\n",
       "    </tr>\n",
       "    <tr>\n",
       "      <th>4</th>\n",
       "      <td>2013.500000</td>\n",
       "      <td>13.3</td>\n",
       "      <td>561.98450</td>\n",
       "      <td>5</td>\n",
       "      <td>24.98746</td>\n",
       "      <td>121.54391</td>\n",
       "      <td>54.8</td>\n",
       "    </tr>\n",
       "    <tr>\n",
       "      <th>5</th>\n",
       "      <td>2012.833333</td>\n",
       "      <td>5.0</td>\n",
       "      <td>390.56840</td>\n",
       "      <td>5</td>\n",
       "      <td>24.97937</td>\n",
       "      <td>121.54245</td>\n",
       "      <td>43.1</td>\n",
       "    </tr>\n",
       "  </tbody>\n",
       "</table>\n",
       "</div>"
      ],
      "text/plain": [
       "    transaction_date  house_age  distance_to_the_nearest_MRT_station  \\\n",
       "No                                                                     \n",
       "1        2012.916667       32.0                             84.87882   \n",
       "2        2012.916667       19.5                            306.59470   \n",
       "3        2013.583333       13.3                            561.98450   \n",
       "4        2013.500000       13.3                            561.98450   \n",
       "5        2012.833333        5.0                            390.56840   \n",
       "\n",
       "    number_of_convenience_stores  latitude  longitude  \\\n",
       "No                                                      \n",
       "1                             10  24.98298  121.54024   \n",
       "2                              9  24.98034  121.53951   \n",
       "3                              5  24.98746  121.54391   \n",
       "4                              5  24.98746  121.54391   \n",
       "5                              5  24.97937  121.54245   \n",
       "\n",
       "    house_price_of_unit_area  \n",
       "No                            \n",
       "1                       37.9  \n",
       "2                       42.2  \n",
       "3                       47.3  \n",
       "4                       54.8  \n",
       "5                       43.1  "
      ]
     },
     "execution_count": 8,
     "metadata": {},
     "output_type": "execute_result"
    }
   ],
   "source": [
    "df.head()"
   ]
  },
  {
   "cell_type": "markdown",
   "metadata": {},
   "source": [
    "We have successfully gathered the data we need."
   ]
  },
  {
   "cell_type": "markdown",
   "metadata": {
    "button": false,
    "deletable": true,
    "new_sheet": false,
    "run_control": {
     "read_only": false
    }
   },
   "source": [
    "## Part C: Explore the Data\n",
    "\n",
    "_Note: try to get insights from a field expert for these steps._\n",
    "\n",
    "1. Create a copy of the data for exploration (sampling it down to a manageable size if necessary).\n",
    "\n",
    "The data is not big enough for me to consider this necessary. \n",
    "\n",
    "2. Create a Jupyter notebook to keep a record of your data exploration.\n",
    "\n",
    "We'll be doing that in this notebook.\n",
    "\n",
    "3. Study each attribute and its characteristics:\n",
    "\n",
    "  - Name\n",
    "  - Type (categorical, int/float, bounded/unbounded, text, structured, etc.)\n",
    "  - % of missing values\n",
    "  - Noisiness and type of noise (stochastic, outliers, rounding errors, etc.)\n",
    "  - Possibly useful for the task?\n",
    "  - Type of distribution (Gaussian, uniform, logarithmic, etc.)\n",
    "  \n",
    "Will do on a column by column basis. Skipping noiseness analysis.\n",
    "\n",
    "4. For supervised learning tasks, identify the target attribute(s).\n",
    "\n",
    "5. Visualize the data.\n",
    "\n",
    "6. Study the correlations between attributes.\n",
    "\n",
    "7. Study how you would solve the problem manually.\n",
    "\n",
    "8. Identify the promising transformations you may want to apply.\n",
    "\n",
    "9. Identify extra data that would be useful (go back to “Get the Data”).\n",
    "\n",
    "10. Document what you have learned."
   ]
  },
  {
   "cell_type": "markdown",
   "metadata": {},
   "source": [
    "We'll address each column, starting with the information the [website](https://archive.ics.uci.edu/ml/datasets/Real+estate+valuation+data+set) we got the data from and then moving into any observations we have ourselves regarding the data. Then we'll use the `describe` function to get a general feel for the data, along with a hsitogram and followed by performing the Shapiro-Wilk test to test for normality. This test was chosen as we have a small number of samples, which is generally a perferred prerequisite for this test. "
   ]
  },
  {
   "cell_type": "markdown",
   "metadata": {},
   "source": [
    "### Column `transaction_date`\n",
    "\n",
    "> the transaction date (for example, 2013.250=2013 March, 2013.500=2013 June, etc.)"
   ]
  },
  {
   "cell_type": "code",
   "execution_count": 29,
   "metadata": {},
   "outputs": [],
   "source": [
    "def high_level_overview(column: pd.Series, alpha: int = 0.05):\n",
    "    \"\"\"Gives a high level overview of a single Pandas column.\n",
    "    \n",
    "    \"\"\"\n",
    "    print(column.describe())\n",
    "    print(sns.violinplot(column))\n",
    "    \n",
    "    # visual normality test\n",
    "    sm.qqplot(column, line='45')\n",
    "    \n",
    "    # mathmatical normality test\n",
    "    stat, p = shapiro(column)\n",
    "    print(f\"\\nShapiro-Wilk stat {stat} p {p}\")\n",
    "    if p > alpha:\n",
    "        print('Sample looks Gaussian (fail to reject H0)')\n",
    "    else:\n",
    "        print('Sample does not look Gaussian (reject H0)')"
   ]
  },
  {
   "cell_type": "code",
   "execution_count": 30,
   "metadata": {},
   "outputs": [
    {
     "name": "stdout",
     "output_type": "stream",
     "text": [
      "count     414.000000\n",
      "mean     2013.148953\n",
      "std         0.281995\n",
      "min      2012.666667\n",
      "25%      2012.916667\n",
      "50%      2013.166667\n",
      "75%      2013.416667\n",
      "max      2013.583333\n",
      "Name: transaction_date, dtype: float64\n",
      "AxesSubplot(0.125,0.125;0.775x0.755)\n",
      "\n",
      "Shapiro-Wilk stat 0.934929370880127 p 1.8203687255496925e-12\n",
      "Sample does not look Gaussian (reject H0)\n"
     ]
    },
    {
     "data": {
      "image/png": "[encoded data removed]",
      "text/plain": [
       "<Figure size 432x288 with 1 Axes>"
      ]
     },
     "metadata": {
      "needs_background": "light"
     },
     "output_type": "display_data"
    },
    {
     "data": {
      "image/png": "[encoded data removed]",
      "text/plain": [
       "<Figure size 432x288 with 1 Axes>"
      ]
     },
     "metadata": {
      "needs_background": "light"
     },
     "output_type": "display_data"
    }
   ],
   "source": [
    "high_level_overview(df[\"transaction_date\"])"
   ]
  },
  {
   "cell_type": "markdown",
   "metadata": {},
   "source": [
    "- Type (categorical, int/float, bounded/unbounded, text, structured, etc.)\n",
    "  - date\n",
    "- % of missing values\n",
    "  - 0%\n",
    "- Possibly useful for the task?\n",
    "  - Yes, I believe that we will see a trend of houses getting more expensive we as get into later dates.\n",
    "- Type of distribution (Gaussian, uniform, logarithmic, etc.)\n",
    "  - TODO"
   ]
  },
  {
   "cell_type": "markdown",
   "metadata": {},
   "source": [
    "### Column `house_age`\n",
    "\n",
    "> the house age (unit: year)"
   ]
  },
  {
   "cell_type": "code",
   "execution_count": 31,
   "metadata": {},
   "outputs": [
    {
     "name": "stdout",
     "output_type": "stream",
     "text": [
      "count    414.000000\n",
      "mean      17.712560\n",
      "std       11.392485\n",
      "min        0.000000\n",
      "25%        9.025000\n",
      "50%       16.100000\n",
      "75%       28.150000\n",
      "max       43.800000\n",
      "Name: house_age, dtype: float64\n",
      "AxesSubplot(0.125,0.125;0.775x0.755)\n",
      "\n",
      "Shapiro-Wilk stat 0.9467390179634094 p 4.79820315424373e-11\n",
      "Sample does not look Gaussian (reject H0)\n"
     ]
    },
    {
     "data": {
      "image/png": "[encoded data removed]",
      "text/plain": [
       "<Figure size 432x288 with 1 Axes>"
      ]
     },
     "metadata": {
      "needs_background": "light"
     },
     "output_type": "display_data"
    },
    {
     "data": {
      "image/png": "[encoded data removed]",
      "text/plain": [
       "<Figure size 432x288 with 1 Axes>"
      ]
     },
     "metadata": {
      "needs_background": "light"
     },
     "output_type": "display_data"
    }
   ],
   "source": [
    "high_level_overview(df[\"house_age\"])"
   ]
  },
  {
   "cell_type": "markdown",
   "metadata": {},
   "source": [
    "- Type (categorical, int/float, bounded/unbounded, text, structured, etc.)\n",
    "  - float\n",
    "- % of missing values\n",
    "  - 0%\n",
    "- Possibly useful for the task?\n",
    "  - Yes, I believe that we will see a trend of prices relating to housing age. I'm not sure if newer houses will be more expensive, due to being built more recently, but potentially older houses may be worth more due to being bigger or landmark sites, potentially as an otulier.\n",
    "- Type of distribution (Gaussian, uniform, logarithmic, etc.)\n",
    "  - TODO"
   ]
  },
  {
   "cell_type": "markdown",
   "metadata": {},
   "source": [
    "### Column `distance_to_the_nearest_MRT_station`\n",
    "\n",
    "> the distance to the nearest MRT station (unit: meter)"
   ]
  },
  {
   "cell_type": "markdown",
   "metadata": {},
   "source": [
    "Where MRT = metro rail transit."
   ]
  },
  {
   "cell_type": "code",
   "execution_count": 32,
   "metadata": {},
   "outputs": [
    {
     "name": "stdout",
     "output_type": "stream",
     "text": [
      "count     414.000000\n",
      "mean     1083.885689\n",
      "std      1262.109595\n",
      "min        23.382840\n",
      "25%       289.324800\n",
      "50%       492.231300\n",
      "75%      1454.279000\n",
      "max      6488.021000\n",
      "Name: distance_to_the_nearest_MRT_station, dtype: float64\n",
      "AxesSubplot(0.125,0.125;0.775x0.755)\n",
      "\n",
      "Shapiro-Wilk stat 0.7381015419960022 p 4.8551144525880555e-25\n",
      "Sample does not look Gaussian (reject H0)\n"
     ]
    },
    {
     "data": {
      "image/png": "[encoded data removed]",
      "text/plain": [
       "<Figure size 432x288 with 1 Axes>"
      ]
     },
     "metadata": {
      "needs_background": "light"
     },
     "output_type": "display_data"
    },
    {
     "data": {
      "image/png": "[encoded data removed]",
      "text/plain": [
       "<Figure size 432x288 with 1 Axes>"
      ]
     },
     "metadata": {
      "needs_background": "light"
     },
     "output_type": "display_data"
    }
   ],
   "source": [
    "high_level_overview(df[\"distance_to_the_nearest_MRT_station\"])"
   ]
  },
  {
   "cell_type": "markdown",
   "metadata": {},
   "source": [
    "- Type (categorical, int/float, bounded/unbounded, text, structured, etc.)\n",
    "  - float\n",
    "- % of missing values\n",
    "  - 0%\n",
    "- Possibly useful for the task?\n",
    "  - Yes, I believe the distance to a MRT station wil be a good indicator for how urban or rural a house is.\n",
    "- Type of distribution (Gaussian, uniform, logarithmic, etc.)\n",
    "  - TODO"
   ]
  },
  {
   "cell_type": "markdown",
   "metadata": {},
   "source": [
    "### Column `number_of_convenience_stores `\n",
    "\n",
    "> the number of convenience stores in the living circle on foot (integer)"
   ]
  },
  {
   "cell_type": "code",
   "execution_count": 33,
   "metadata": {},
   "outputs": [
    {
     "name": "stdout",
     "output_type": "stream",
     "text": [
      "count    414.000000\n",
      "mean       4.094203\n",
      "std        2.945562\n",
      "min        0.000000\n",
      "25%        1.000000\n",
      "50%        4.000000\n",
      "75%        6.000000\n",
      "max       10.000000\n",
      "Name: number_of_convenience_stores, dtype: float64\n",
      "AxesSubplot(0.125,0.125;0.775x0.755)\n",
      "\n",
      "Shapiro-Wilk stat 0.937370240688324 p 3.458723541946429e-12\n",
      "Sample does not look Gaussian (reject H0)\n"
     ]
    },
    {
     "data": {
      "image/png": "[encoded data removed]",
      "text/plain": [
       "<Figure size 432x288 with 1 Axes>"
      ]
     },
     "metadata": {
      "needs_background": "light"
     },
     "output_type": "display_data"
    },
    {
     "data": {
      "image/png": "[encoded data removed]",
      "text/plain": [
       "<Figure size 432x288 with 1 Axes>"
      ]
     },
     "metadata": {
      "needs_background": "light"
     },
     "output_type": "display_data"
    }
   ],
   "source": [
    "high_level_overview(df[\"number_of_convenience_stores\"])"
   ]
  },
  {
   "cell_type": "markdown",
   "metadata": {},
   "source": [
    "- Type (categorical, int/float, bounded/unbounded, text, structured, etc.)\n",
    "  - date\n",
    "- % of missing values\n",
    "  - 0%\n",
    "- Possibly useful for the task?\n",
    "  - Yes, I believe the number of convenience stores wil be a good indicator for how urban or rural a house is.\n",
    "- Type of distribution (Gaussian, uniform, logarithmic, etc.)\n",
    "  - TODO"
   ]
  },
  {
   "cell_type": "markdown",
   "metadata": {},
   "source": [
    "### Column `latitude`\n",
    "\n",
    "> the geographic coordinate, latitude. (unit: degree)"
   ]
  },
  {
   "cell_type": "code",
   "execution_count": 34,
   "metadata": {},
   "outputs": [
    {
     "name": "stdout",
     "output_type": "stream",
     "text": [
      "count    414.000000\n",
      "mean      24.969030\n",
      "std        0.012410\n",
      "min       24.932070\n",
      "25%       24.963000\n",
      "50%       24.971100\n",
      "75%       24.977455\n",
      "max       25.014590\n",
      "Name: latitude, dtype: float64\n",
      "AxesSubplot(0.125,0.125;0.775x0.755)\n",
      "\n",
      "Shapiro-Wilk stat 0.9732920527458191 p 6.890189752084552e-07\n",
      "Sample does not look Gaussian (reject H0)\n"
     ]
    },
    {
     "data": {
      "image/png": "[encoded data removed]",
      "text/plain": [
       "<Figure size 432x288 with 1 Axes>"
      ]
     },
     "metadata": {
      "needs_background": "light"
     },
     "output_type": "display_data"
    },
    {
     "data": {
      "image/png": "[encoded data removed]",
      "text/plain": [
       "<Figure size 432x288 with 1 Axes>"
      ]
     },
     "metadata": {
      "needs_background": "light"
     },
     "output_type": "display_data"
    }
   ],
   "source": [
    "high_level_overview(df[\"latitude\"])"
   ]
  },
  {
   "cell_type": "markdown",
   "metadata": {},
   "source": [
    "### Column `longitude`\n",
    "\n",
    "> the geographic coordinate, longitude. (unit: degree)"
   ]
  },
  {
   "cell_type": "code",
   "execution_count": 35,
   "metadata": {},
   "outputs": [
    {
     "name": "stdout",
     "output_type": "stream",
     "text": [
      "count    414.000000\n",
      "mean     121.533361\n",
      "std        0.015347\n",
      "min      121.473530\n",
      "25%      121.528085\n",
      "50%      121.538630\n",
      "75%      121.543305\n",
      "max      121.566270\n",
      "Name: longitude, dtype: float64\n",
      "AxesSubplot(0.125,0.125;0.775x0.755)\n",
      "\n",
      "Shapiro-Wilk stat 0.8708114624023438 p 4.545777673730064e-18\n",
      "Sample does not look Gaussian (reject H0)\n"
     ]
    },
    {
     "data": {
      "image/png": "[encoded data removed]",
      "text/plain": [
       "<Figure size 432x288 with 1 Axes>"
      ]
     },
     "metadata": {
      "needs_background": "light"
     },
     "output_type": "display_data"
    },
    {
     "data": {
      "image/png": "[encoded data removed]",
      "text/plain": [
       "<Figure size 432x288 with 1 Axes>"
      ]
     },
     "metadata": {
      "needs_background": "light"
     },
     "output_type": "display_data"
    }
   ],
   "source": [
    "high_level_overview(df[\"longitude\"])"
   ]
  },
  {
   "cell_type": "markdown",
   "metadata": {},
   "source": [
    "### Column `house_price_of_unit_area`\n",
    "\n",
    "> house price of unit area (10000 New Taiwan Dollar/Ping, where Ping is a local unit, 1 Ping = 3.3 meter squared) "
   ]
  },
  {
   "cell_type": "code",
   "execution_count": 36,
   "metadata": {},
   "outputs": [
    {
     "name": "stdout",
     "output_type": "stream",
     "text": [
      "count    414.000000\n",
      "mean      37.980193\n",
      "std       13.606488\n",
      "min        7.600000\n",
      "25%       27.700000\n",
      "50%       38.450000\n",
      "75%       46.600000\n",
      "max      117.500000\n",
      "Name: house_price_of_unit_area, dtype: float64\n",
      "AxesSubplot(0.125,0.125;0.775x0.755)\n",
      "\n",
      "Shapiro-Wilk stat 0.972750186920166 p 5.412278483163391e-07\n",
      "Sample does not look Gaussian (reject H0)\n"
     ]
    },
    {
     "data": {
      "image/png": "[encoded data removed]",
      "text/plain": [
       "<Figure size 432x288 with 1 Axes>"
      ]
     },
     "metadata": {
      "needs_background": "light"
     },
     "output_type": "display_data"
    },
    {
     "data": {
      "image/png": "[encoded data removed]",
      "text/plain": [
       "<Figure size 432x288 with 1 Axes>"
      ]
     },
     "metadata": {
      "needs_background": "light"
     },
     "output_type": "display_data"
    }
   ],
   "source": [
    "high_level_overview(df[\"house_price_of_unit_area\"])"
   ]
  },
  {
   "cell_type": "markdown",
   "metadata": {
    "button": false,
    "deletable": true,
    "new_sheet": false,
    "run_control": {
     "read_only": false
    }
   },
   "source": [
    "## Part D: Prepare the Data\n",
    "\n",
    "Notes:\n",
    "  - Work on copies of the data (keep the original dataset intact).\n",
    "  - Write functions for all data transformations you apply, for five reasons:\n",
    "    1. So you can easily prepare the data the next time you get a fresh dataset\n",
    "    2. So you can apply these transformations in future projects\n",
    "    3. To clean and prepare the test set\n",
    "    4. To clean and prepare new data instances once your solution is live\n",
    "    5. To make it easy to treat your preparation choices as hyperparameters\n",
    "    \n",
    "1. Data cleaning:\n",
    "  - Fix or remove outliers (optional).\n",
    "  - Fill in missing values (e.g., with zero, mean, median...) or drop their rows (or columns).\n",
    "2. Feature selection(optional):\n",
    "  - Drop the attributes that provide no useful information for the task.\n",
    "3. Feature engineering, where appropriate:\n",
    "  - Discretize continuous features.\n",
    "  - Decompose features (e.g., categorical, date/time, etc.).\n",
    "  - Add promising transformations of features (e.g., log(x), sqrt(x), x^2, etc.).\n",
    "  - Aggregate features into promising new features.\n",
    "4. Feature scaling: standardize or normalize features."
   ]
  },
  {
   "cell_type": "markdown",
   "metadata": {
    "button": false,
    "deletable": true,
    "new_sheet": false,
    "run_control": {
     "read_only": false
    }
   },
   "source": [
    "## Part E: Short-List Promising Models\n",
    "\n",
    "Notes:\n",
    "  - If the data is huge, you may want to sample smaller training sets so you can train many different models in a reasonable time (be aware that this penalizes complex models such as large neural nets or Random Forests).\n",
    "  - Once again, try to automate these steps as much as possible.\n",
    "  \n",
    "1. Train many quick and dirty models from different categories (e.g., linear, naive Bayes, SVM, Random Forests, neural net, etc.) using standard parameters.\n",
    "2. Measure and compare their performance. For each model, use N-fold cross-validation and compute the mean and standard deviation of the performance measure on the N folds.\n",
    "3. Analyze the most significant variables for each algorithm.\n",
    "4. Analyze the types of errors the models make. What data would a human have used to avoid these errors?\n",
    "5. Have a quick round of feature selection and engineering.\n",
    "6. Have one or two more quick iterations of the five previous steps.\n",
    "7. Short-list the top three to five most promising models, preferring models that make different types of errors."
   ]
  },
  {
   "cell_type": "markdown",
   "metadata": {
    "button": false,
    "deletable": true,
    "new_sheet": false,
    "run_control": {
     "read_only": false
    }
   },
   "source": [
    "## Part F: Fine-Tune the System\n",
    "\n",
    "Notes:\n",
    "- You will want to use as much data as possible for this step, especially as you move toward the end of fine-tuning.\n",
    "- As always automate what you can.\n",
    "\n",
    "1. Fine-tune the hyperparameters using cross-validation.\n",
    "  - Treat your data transformation choices as hyperparameters, especially when you are not sure about them (e.g., should I replace missing values with zero or with the median value? Or just drop the rows?). Unless there are very few hyperparameter values to explore, prefer random search over grid search. If training is very long, you may prefer a Bayesian optimization approach (e.g., using Gaussian process priors, as described by Jasper Snoek, Hugo Larochelle, and Ryan Adams).\n",
    "\n",
    "2. Try Ensemble methods. Combining your best models will often perform better than running themindividually.\n",
    "3. Once you are confident about your final model, measure its performance on the test set to estimate the generalization error.\n",
    "\n",
    "WARNING: Don’t tweak your model after measuring the generalization error: you would just start overfitting the test set"
   ]
  },
  {
   "cell_type": "markdown",
   "metadata": {
    "button": false,
    "deletable": true,
    "new_sheet": false,
    "run_control": {
     "read_only": false
    }
   },
   "source": [
    "## Part G: Present Your Solution\n",
    "\n",
    "1. Document what you have done.\n",
    "2. Create a nice presentation. \n",
    "  - Make sure you highlight the big picture first.\n",
    "3. Explain why your solution achieves the business objective.\n",
    "4. Don’t forget to present interesting points you noticed along the way. \n",
    "  - Describe what worked and what did not. \n",
    "  - List your assumptions and your system’s limitations.\n",
    "5. Ensure your key findings are communicated through beautiful visualizations or easy-to-remember statements (e.g., “the median income is the number-one predictor of housing prices”)."
   ]
  },
  {
   "cell_type": "markdown",
   "metadata": {
    "button": false,
    "deletable": true,
    "new_sheet": false,
    "run_control": {
     "read_only": false
    }
   },
   "source": [
    "## Part H: Launch!\n",
    "\n",
    "1. Get your solution ready for production (plug into production data inputs, write unit tests, etc.).\n",
    "2. Write monitoring code to check your system’s live performance at regular intervals and trigger alerts when it drops.\n",
    "  - Beware of slow degradation too: models tend to “rot” as data evolves.\n",
    "  - Measuring performance may require a human pipeline (e.g., via a crowdsourcing service).\n",
    "  - Also monitor your inputs’ quality (e.g., a malfunctioning sensor sending random values, or another team’s output becoming stale). This is particularly important for online learning systems.\n",
    "3. Retrain your models on a regular basis on fresh data (automate as much as possible)."
   ]
  },
  {
   "cell_type": "code",
   "execution_count": null,
   "metadata": {
    "button": false,
    "collapsed": true,
    "deletable": true,
    "new_sheet": false,
    "run_control": {
     "read_only": false
    }
   },
   "outputs": [],
   "source": []
  }
 ],
 "metadata": {
  "kernelspec": {
   "display_name": "Python 3",
   "language": "python",
   "name": "python3"
  },
  "language_info": {
   "codemirror_mode": {
    "name": "ipython",
    "version": 3
   },
   "file_extension": ".py",
   "mimetype": "text/x-python",
   "name": "python",
   "nbconvert_exporter": "python",
   "pygments_lexer": "ipython3",
   "version": "3.7.3"
  }
 },
 "nbformat": 4,
 "nbformat_minor": 2
}

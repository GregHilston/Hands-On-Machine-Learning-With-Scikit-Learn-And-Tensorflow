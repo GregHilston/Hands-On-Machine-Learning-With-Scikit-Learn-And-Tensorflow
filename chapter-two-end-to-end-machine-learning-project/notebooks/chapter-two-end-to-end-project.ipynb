{
 "cells": [
  {
   "cell_type": "markdown",
   "metadata": {
    "button": false,
    "deletable": true,
    "new_sheet": false,
    "run_control": {
     "read_only": false
    }
   },
   "source": [
    "#  \"Real Estate Valuation\"\n",
    "\n",
    "Data acquired from: [here](https://archive.ics.uci.edu/ml/datasets/Real+estate+valuation+data+set)\n",
    "\n",
    "This is a real estate multivariate regression problem. Well be going through the \"checklist\" defined in Appendix B in the book [Hands-On Machine Learning with Scikit-Learn and TensorFlow: Concepts, Tools, and Techniques to Build Intelligent Systems](https://www.amazon.com/Hands-Machine-Learning-Scikit-Learn-TensorFlow/dp/1491962291). I'll be expliclity answering all the questions and going through each step to improve my learning, even though a lot of the questions don't make sense or apply super well to just doing this process for learning.\n",
    "\n",
    "- ask max about \"Automatic Feature Engineering in Python\" library he's used\n",
    "- CTRL + F \"TBD\""
   ]
  },
  {
   "cell_type": "markdown",
   "metadata": {
    "button": false,
    "deletable": true,
    "new_sheet": false,
    "run_control": {
     "read_only": false
    }
   },
   "source": [
    "## Part A: Frame the Problem and Look at the Big Picture\n",
    " \n",
    "1. Define the objective in business terms.\n",
    "\n",
    "(Pretend) We want to predict real estate valuations in New Taipei City, Taiwan to increase our ability to effectively bid on lots.\n",
    "\n",
    "2. How will your solution be used?\n",
    "\n",
    "(Pretend) Our solution will be used to ensure we our bids are accurate, maximizing profit.\n",
    "\n",
    "3. What are the current solutions/workarounds (if any)?\n",
    "\n",
    "None.\n",
    "\n",
    "4. How should you frame this problem (supervised/unsupervised, online/offline, etc.)?\n",
    "\n",
    "Supervised. The data sets have valuation attached. \n",
    "\n",
    "Offline. All the data that existed has been already gathered and all the training will be done at once.\n",
    "\n",
    "5. How should performance be measured?\n",
    "\n",
    "I was going to use MSE, but the outlier will make my MSE very high\n",
    "Performance should be measured by Mean Square Error (MSE). I have chosen this metric \n",
    "\n",
    "For convenience, the equation is listed here: \n",
    "\n",
    "$$\\large{\\text{MSE} = \\frac{\\sum_{i=1}^{n}(y_i - y_i^p)^2}{n}}$$\n",
    "\n",
    "MSE was chosen to ensure that the bigger the magnitude of the difference between the predictio and the actual, the worse it is penalized. This would allow us to ensure we minimize the amount of money we might lose on any given bid.\n",
    "\n",
    "6. Is the performance measure aligned with the business objective?\n",
    "\n",
    "Yes.\n",
    "\n",
    "7. What would be the minimum performance needed to reach the business objective?\n",
    "\n",
    "TBD\n",
    "\n",
    "8. What are comparable problems? Can you reuse experience or tools?\n",
    "\n",
    "(Pretend) Our company has had no comparable problems, nor can we reuse experience or tools.\n",
    "\n",
    "9. Is human expertise available?\n",
    "\n",
    "(Pretend) No.\n",
    "\n",
    "10. How would you solve the problem manually?\n",
    "\n",
    "I'd attempt to solve this problem manually by looking at all the houses that sold for the most amount and the houses that sold for the least amount and look for patterns that may elude to what would effect each house's price.\n",
    "\n",
    "11. List the assumptions you (or others) have made so far.\n",
    "\n",
    "  - valuation and transaction date will have a positive correlation\n",
    "    - generally real estate gets more valuable with time, along with inflation increasing the value\n",
    "  - valuation and house age will have a negative correlation\n",
    "    - part of me believes a newer house will be worth more, but there's also part of me thinking older homes may be have been larger due to less people and more available land back then\n",
    "  - valuation and distance to the nearest MRT station will have a negative correlation\n",
    "    - I believe the closer a house is to an MRT station, the more likely it is to be in an urban setting and therefore more likely to fetch a higher valuation\n",
    "  - valuation and number of convenience stores will have a negative correlation\n",
    "    - I believe the moreconvenience stores near a house, the more likely it is to be in an urban setting and therefore more likely to fetch a higher valuation\n",
    "  - valuation and latitude will have a postiive correlation\n",
    "    - New Taipei City is a city bordered by water to the north, so I believe these coastal locations will be worth more\n",
    "  - no assumption for valuation and longitude\n",
    "\n",
    "12. Verify assumptions if possible.\n",
    "\n",
    "Will do."
   ]
  },
  {
   "cell_type": "markdown",
   "metadata": {
    "button": false,
    "deletable": true,
    "new_sheet": false,
    "run_control": {
     "read_only": false
    }
   },
   "source": [
    "## Part B: Get the Data\n",
    "\n",
    "_Note: automate as much as possible so you can easily get fresh data._\n",
    "\n",
    "1. List the data you need and how much you need.\n",
    "\n",
    "2. Find and document where you can get that data.\n",
    "\n",
    "3. Check how much space it will take.\n",
    "\n",
    "4. Check legal obligations, and get authorization if necessary.\n",
    "\n",
    "5. Get access authorizations.\n",
    "\n",
    "6. Create a workspace (with enough storage space).\n",
    "\n",
    "7. Get the data.\n",
    "\n",
    "8. Convert the data to a format you can easily manipulate (without changing the data itself).\n",
    "\n",
    "9. Ensure sensitive information is deleted or protected (e.g., anonymized).\n",
    "\n",
    "10. Check the size and type of data (time series, sample, geographical, etc.).\n",
    "\n",
    "11. Sample a test set, put it aside, and never look at it (no data snooping!)."
   ]
  },
  {
   "cell_type": "markdown",
   "metadata": {
    "button": false,
    "deletable": true,
    "new_sheet": false,
    "run_control": {
     "read_only": false
    }
   },
   "source": [
    "## Part C: Explore the Data\n",
    "\n",
    "_Note: try to get insights from a field expert for these steps._\n",
    "\n",
    "1. Create a copy of the data for exploration (sampling it down to a manageable size if necessary).\n",
    "\n",
    "2. Create a Jupyter notebook to keep a record of your data exploration.\n",
    "\n",
    "3. Study each attribute and its characteristics:\n",
    "\n",
    "  - Name\n",
    "  - Type (categorical, int/float, bounded/unbounded, text, structured, etc.)\n",
    "  - % of missing values\n",
    "  - Noisiness and type of noise (stochastic, outliers, rounding errors, etc.)\n",
    "  - Possibly useful for the task?\n",
    "  - Type of distribution (Gaussian, uniform, logarithmic, etc.)\n",
    "\n",
    "4. For supervised learning tasks, identify the target attribute(s).\n",
    "\n",
    "5. Visualize the data.\n",
    "\n",
    "6. Study the correlations between attributes.\n",
    "\n",
    "7. Study how you would solve the problem manually.\n",
    "\n",
    "8. Identify the promising transformations you may want to apply.\n",
    "\n",
    "9. Identify extra data that would be useful (go back to “Get the Data”).\n",
    "\n",
    "10. Document what you have learned."
   ]
  },
  {
   "cell_type": "markdown",
   "metadata": {
    "button": false,
    "deletable": true,
    "new_sheet": false,
    "run_control": {
     "read_only": false
    }
   },
   "source": [
    "## Part D: Prepare the Data\n",
    "\n",
    "Notes:\n",
    "  - Work on copies of the data (keep the original dataset intact).\n",
    "  - Write functions for all data transformations you apply, for five reasons:\n",
    "    1. So you can easily prepare the data the next time you get a fresh dataset\n",
    "    2. So you can apply these transformations in future projects\n",
    "    3. To clean and prepare the test set\n",
    "    4. To clean and prepare new data instances once your solution is live\n",
    "    5. To make it easy to treat your preparation choices as hyperparameters\n",
    "    \n",
    "1. Data cleaning:\n",
    "  - Fix or remove outliers (optional).\n",
    "  - Fill in missing values (e.g., with zero, mean, median...) or drop their rows (or columns).\n",
    "2. Feature selection(optional):\n",
    "  - Drop the attributes that provide no useful information for the task.\n",
    "3. Feature engineering, where appropriate:\n",
    "  - Discretize continuous features.\n",
    "  - Decompose features (e.g., categorical, date/time, etc.).\n",
    "  - Add promising transformations of features (e.g., log(x), sqrt(x), x^2, etc.).\n",
    "  - Aggregate features into promising new features.\n",
    "4. Feature scaling: standardize or normalize features."
   ]
  },
  {
   "cell_type": "markdown",
   "metadata": {
    "button": false,
    "deletable": true,
    "new_sheet": false,
    "run_control": {
     "read_only": false
    }
   },
   "source": [
    "## Part E: Short-List Promising Models\n",
    "\n",
    "Notes:\n",
    "  - If the data is huge, you may want to sample smaller training sets so you can train many different models in a reasonable time (be aware that this penalizes complex models such as large neural nets or Random Forests).\n",
    "  - Once again, try to automate these steps as much as possible.\n",
    "  \n",
    "1. Train many quick and dirty models from different categories (e.g., linear, naive Bayes, SVM, Random Forests, neural net, etc.) using standard parameters.\n",
    "2. Measure and compare their performance. For each model, use N-fold cross-validation and compute the mean and standard deviation of the performance measure on the N folds.\n",
    "3. Analyze the most significant variables for each algorithm.\n",
    "4. Analyze the types of errors the models make. What data would a human have used to avoid these errors?\n",
    "5. Have a quick round of feature selection and engineering.\n",
    "6. Have one or two more quick iterations of the five previous steps.\n",
    "7. Short-list the top three to five most promising models, preferring models that make different types of errors."
   ]
  },
  {
   "cell_type": "markdown",
   "metadata": {
    "button": false,
    "deletable": true,
    "new_sheet": false,
    "run_control": {
     "read_only": false
    }
   },
   "source": [
    "## Part F: Fine-Tune the System\n",
    "\n",
    "Notes:\n",
    "- You will want to use as much data as possible for this step, especially as you move toward the end of fine-tuning.\n",
    "- As always automate what you can.\n",
    "\n",
    "1. Fine-tune the hyperparameters using cross-validation.\n",
    "  - Treat your data transformation choices as hyperparameters, especially when you are not sure about them (e.g., should I replace missing values with zero or with the median value? Or just drop the rows?). Unless there are very few hyperparameter values to explore, prefer random search over grid search. If training is very long, you may prefer a Bayesian optimization approach (e.g., using Gaussian process priors, as described by Jasper Snoek, Hugo Larochelle, and Ryan Adams).\n",
    "\n",
    "2. Try Ensemble methods. Combining your best models will often perform better than running themindividually.\n",
    "3. Once you are confident about your final model, measure its performance on the test set to estimate the generalization error.\n",
    "\n",
    "WARNING: Don’t tweak your model after measuring the generalization error: you would just start overfitting the test set"
   ]
  },
  {
   "cell_type": "markdown",
   "metadata": {
    "button": false,
    "deletable": true,
    "new_sheet": false,
    "run_control": {
     "read_only": false
    }
   },
   "source": [
    "## Part G: Present Your Solution\n",
    "\n",
    "1. Document what you have done.\n",
    "2. Create a nice presentation. \n",
    "  - Make sure you highlight the big picture first.\n",
    "3. Explain why your solution achieves the business objective.\n",
    "4. Don’t forget to present interesting points you noticed along the way. \n",
    "  - Describe what worked and what did not. \n",
    "  - List your assumptions and your system’s limitations.\n",
    "5. Ensure your key findings are communicated through beautiful visualizations or easy-to-remember statements (e.g., “the median income is the number-one predictor of housing prices”)."
   ]
  },
  {
   "cell_type": "markdown",
   "metadata": {
    "button": false,
    "deletable": true,
    "new_sheet": false,
    "run_control": {
     "read_only": false
    }
   },
   "source": [
    "## Part H: Launch!\n",
    "\n",
    "1. Get your solution ready for production (plug into production data inputs, write unit tests, etc.).\n",
    "2. Write monitoring code to check your system’s live performance at regular intervals and trigger alerts when it drops.\n",
    "  - Beware of slow degradation too: models tend to “rot” as data evolves.\n",
    "  - Measuring performance may require a human pipeline (e.g., via a crowdsourcing service).\n",
    "  - Also monitor your inputs’ quality (e.g., a malfunctioning sensor sending random values, or another team’s output becoming stale). This is particularly important for online learning systems.\n",
    "3. Retrain your models on a regular basis on fresh data (automate as much as possible)."
   ]
  },
  {
   "cell_type": "code",
   "execution_count": null,
   "metadata": {
    "button": false,
    "collapsed": true,
    "deletable": true,
    "new_sheet": false,
    "run_control": {
     "read_only": false
    }
   },
   "outputs": [],
   "source": []
  }
 ],
 "metadata": {
  "kernelspec": {
   "display_name": "Python 3",
   "language": "python",
   "name": "python3"
  },
  "language_info": {
   "codemirror_mode": {
    "name": "ipython",
    "version": 3
   },
   "file_extension": ".py",
   "mimetype": "text/x-python",
   "name": "python",
   "nbconvert_exporter": "python",
   "pygments_lexer": "ipython3",
   "version": "3.7.3"
  }
 },
 "nbformat": 4,
 "nbformat_minor": 2
}
